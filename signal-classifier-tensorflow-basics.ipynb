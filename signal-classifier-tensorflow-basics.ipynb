{
 "cells": [
  {
   "cell_type": "markdown",
   "id": "d7ada672",
   "metadata": {
    "id": "UCkdHqg6jjZp",
    "papermill": {
     "duration": 0.013468,
     "end_time": "2022-11-11T19:11:50.431500",
     "exception": false,
     "start_time": "2022-11-11T19:11:50.418032",
     "status": "completed"
    },
    "tags": []
   },
   "source": [
    "### **DOMAIN**: Electronics and Telecommunication\n",
    "#### CONTEXT: A communications equipment manufacturing company has a product which is responsible for emittinginformative signals.Company wants to build a deep learning model which can help the company to predict theequipment’s signal quality using various parameters. DATASET DESCRIPTION: The data set contains information on various signal tests performed:\n",
    "1. Parameters: Various measurable signal parameters. \n",
    "2. Signal_Quality: Final signal strength or quality. "
   ]
  },
  {
   "cell_type": "markdown",
   "id": "e2f6c2b7",
   "metadata": {
    "id": "bINYzc1boiBm",
    "papermill": {
     "duration": 0.013592,
     "end_time": "2022-11-11T19:11:50.457402",
     "exception": false,
     "start_time": "2022-11-11T19:11:50.443810",
     "status": "completed"
    },
    "tags": []
   },
   "source": [
    " PROJECT OBJECTIVE: To build a classifier which can use the given parameters to determine the signal strength orquality. "
   ]
  },
  {
   "cell_type": "markdown",
   "id": "f2866ed3",
   "metadata": {
    "id": "i7XCgnaEkunY",
    "papermill": {
     "duration": 0.011739,
     "end_time": "2022-11-11T19:11:50.481042",
     "exception": false,
     "start_time": "2022-11-11T19:11:50.469303",
     "status": "completed"
    },
    "tags": []
   },
   "source": [
    "# 1. Data import and Understanding"
   ]
  },
  {
   "cell_type": "code",
   "execution_count": 1,
   "id": "6f8c4bf4",
   "metadata": {
    "ExecuteTime": {
     "end_time": "2022-11-06T03:30:25.600939Z",
     "start_time": "2022-11-06T03:30:24.147962Z"
    },
    "execution": {
     "iopub.execute_input": "2022-11-11T19:11:50.507928Z",
     "iopub.status.busy": "2022-11-11T19:11:50.507027Z",
     "iopub.status.idle": "2022-11-11T19:11:51.441798Z",
     "shell.execute_reply": "2022-11-11T19:11:51.440648Z"
    },
    "id": "LPTaoMmxjvse",
    "papermill": {
     "duration": 0.951765,
     "end_time": "2022-11-11T19:11:51.444796",
     "exception": false,
     "start_time": "2022-11-11T19:11:50.493031",
     "status": "completed"
    },
    "tags": []
   },
   "outputs": [],
   "source": [
    "import numpy as np\n",
    "import pandas as pd\n",
    "\n",
    "import seaborn as sns\n",
    "import matplotlib.pyplot as plt\n",
    "%matplotlib inline"
   ]
  },
  {
   "cell_type": "code",
   "execution_count": 2,
   "id": "b7efe2a1",
   "metadata": {
    "ExecuteTime": {
     "end_time": "2022-11-06T03:30:26.038468Z",
     "start_time": "2022-11-06T03:30:25.600939Z"
    },
    "execution": {
     "iopub.execute_input": "2022-11-11T19:11:51.471229Z",
     "iopub.status.busy": "2022-11-11T19:11:51.470840Z",
     "iopub.status.idle": "2022-11-11T19:11:52.074783Z",
     "shell.execute_reply": "2022-11-11T19:11:52.073960Z"
    },
    "id": "fH9Mi3WHj_8i",
    "papermill": {
     "duration": 0.620156,
     "end_time": "2022-11-11T19:11:52.077326",
     "exception": false,
     "start_time": "2022-11-11T19:11:51.457170",
     "status": "completed"
    },
    "tags": []
   },
   "outputs": [],
   "source": [
    "data=pd.read_csv('https://raw.githubusercontent.com/rahultheogre/datasets/main/Signal.csv')"
   ]
  },
  {
   "cell_type": "code",
   "execution_count": 3,
   "id": "97fae1da",
   "metadata": {
    "ExecuteTime": {
     "end_time": "2022-11-06T03:30:26.069630Z",
     "start_time": "2022-11-06T03:30:26.038468Z"
    },
    "execution": {
     "iopub.execute_input": "2022-11-11T19:11:52.103748Z",
     "iopub.status.busy": "2022-11-11T19:11:52.102532Z",
     "iopub.status.idle": "2022-11-11T19:11:52.134999Z",
     "shell.execute_reply": "2022-11-11T19:11:52.133640Z"
    },
    "id": "oruG0hekj_x1",
    "outputId": "62ecbf68-0345-477d-bbb1-c6227e8d232e",
    "papermill": {
     "duration": 0.048937,
     "end_time": "2022-11-11T19:11:52.138227",
     "exception": false,
     "start_time": "2022-11-11T19:11:52.089290",
     "status": "completed"
    },
    "tags": []
   },
   "outputs": [
    {
     "data": {
      "text/html": [
       "<div>\n",
       "<style scoped>\n",
       "    .dataframe tbody tr th:only-of-type {\n",
       "        vertical-align: middle;\n",
       "    }\n",
       "\n",
       "    .dataframe tbody tr th {\n",
       "        vertical-align: top;\n",
       "    }\n",
       "\n",
       "    .dataframe thead th {\n",
       "        text-align: right;\n",
       "    }\n",
       "</style>\n",
       "<table border=\"1\" class=\"dataframe\">\n",
       "  <thead>\n",
       "    <tr style=\"text-align: right;\">\n",
       "      <th></th>\n",
       "      <th>Parameter 1</th>\n",
       "      <th>Parameter 2</th>\n",
       "      <th>Parameter 3</th>\n",
       "      <th>Parameter 4</th>\n",
       "      <th>Parameter 5</th>\n",
       "      <th>Parameter 6</th>\n",
       "      <th>Parameter 7</th>\n",
       "      <th>Parameter 8</th>\n",
       "      <th>Parameter 9</th>\n",
       "      <th>Parameter 10</th>\n",
       "      <th>Parameter 11</th>\n",
       "      <th>Signal_Strength</th>\n",
       "    </tr>\n",
       "  </thead>\n",
       "  <tbody>\n",
       "    <tr>\n",
       "      <th>0</th>\n",
       "      <td>7.4</td>\n",
       "      <td>0.70</td>\n",
       "      <td>0.00</td>\n",
       "      <td>1.9</td>\n",
       "      <td>0.076</td>\n",
       "      <td>11.0</td>\n",
       "      <td>34.0</td>\n",
       "      <td>0.9978</td>\n",
       "      <td>3.51</td>\n",
       "      <td>0.56</td>\n",
       "      <td>9.4</td>\n",
       "      <td>5</td>\n",
       "    </tr>\n",
       "    <tr>\n",
       "      <th>1</th>\n",
       "      <td>7.8</td>\n",
       "      <td>0.88</td>\n",
       "      <td>0.00</td>\n",
       "      <td>2.6</td>\n",
       "      <td>0.098</td>\n",
       "      <td>25.0</td>\n",
       "      <td>67.0</td>\n",
       "      <td>0.9968</td>\n",
       "      <td>3.20</td>\n",
       "      <td>0.68</td>\n",
       "      <td>9.8</td>\n",
       "      <td>5</td>\n",
       "    </tr>\n",
       "    <tr>\n",
       "      <th>2</th>\n",
       "      <td>7.8</td>\n",
       "      <td>0.76</td>\n",
       "      <td>0.04</td>\n",
       "      <td>2.3</td>\n",
       "      <td>0.092</td>\n",
       "      <td>15.0</td>\n",
       "      <td>54.0</td>\n",
       "      <td>0.9970</td>\n",
       "      <td>3.26</td>\n",
       "      <td>0.65</td>\n",
       "      <td>9.8</td>\n",
       "      <td>5</td>\n",
       "    </tr>\n",
       "    <tr>\n",
       "      <th>3</th>\n",
       "      <td>11.2</td>\n",
       "      <td>0.28</td>\n",
       "      <td>0.56</td>\n",
       "      <td>1.9</td>\n",
       "      <td>0.075</td>\n",
       "      <td>17.0</td>\n",
       "      <td>60.0</td>\n",
       "      <td>0.9980</td>\n",
       "      <td>3.16</td>\n",
       "      <td>0.58</td>\n",
       "      <td>9.8</td>\n",
       "      <td>6</td>\n",
       "    </tr>\n",
       "    <tr>\n",
       "      <th>4</th>\n",
       "      <td>7.4</td>\n",
       "      <td>0.70</td>\n",
       "      <td>0.00</td>\n",
       "      <td>1.9</td>\n",
       "      <td>0.076</td>\n",
       "      <td>11.0</td>\n",
       "      <td>34.0</td>\n",
       "      <td>0.9978</td>\n",
       "      <td>3.51</td>\n",
       "      <td>0.56</td>\n",
       "      <td>9.4</td>\n",
       "      <td>5</td>\n",
       "    </tr>\n",
       "    <tr>\n",
       "      <th>5</th>\n",
       "      <td>7.4</td>\n",
       "      <td>0.66</td>\n",
       "      <td>0.00</td>\n",
       "      <td>1.8</td>\n",
       "      <td>0.075</td>\n",
       "      <td>13.0</td>\n",
       "      <td>40.0</td>\n",
       "      <td>0.9978</td>\n",
       "      <td>3.51</td>\n",
       "      <td>0.56</td>\n",
       "      <td>9.4</td>\n",
       "      <td>5</td>\n",
       "    </tr>\n",
       "    <tr>\n",
       "      <th>6</th>\n",
       "      <td>7.9</td>\n",
       "      <td>0.60</td>\n",
       "      <td>0.06</td>\n",
       "      <td>1.6</td>\n",
       "      <td>0.069</td>\n",
       "      <td>15.0</td>\n",
       "      <td>59.0</td>\n",
       "      <td>0.9964</td>\n",
       "      <td>3.30</td>\n",
       "      <td>0.46</td>\n",
       "      <td>9.4</td>\n",
       "      <td>5</td>\n",
       "    </tr>\n",
       "    <tr>\n",
       "      <th>7</th>\n",
       "      <td>7.3</td>\n",
       "      <td>0.65</td>\n",
       "      <td>0.00</td>\n",
       "      <td>1.2</td>\n",
       "      <td>0.065</td>\n",
       "      <td>15.0</td>\n",
       "      <td>21.0</td>\n",
       "      <td>0.9946</td>\n",
       "      <td>3.39</td>\n",
       "      <td>0.47</td>\n",
       "      <td>10.0</td>\n",
       "      <td>7</td>\n",
       "    </tr>\n",
       "    <tr>\n",
       "      <th>8</th>\n",
       "      <td>7.8</td>\n",
       "      <td>0.58</td>\n",
       "      <td>0.02</td>\n",
       "      <td>2.0</td>\n",
       "      <td>0.073</td>\n",
       "      <td>9.0</td>\n",
       "      <td>18.0</td>\n",
       "      <td>0.9968</td>\n",
       "      <td>3.36</td>\n",
       "      <td>0.57</td>\n",
       "      <td>9.5</td>\n",
       "      <td>7</td>\n",
       "    </tr>\n",
       "    <tr>\n",
       "      <th>9</th>\n",
       "      <td>7.5</td>\n",
       "      <td>0.50</td>\n",
       "      <td>0.36</td>\n",
       "      <td>6.1</td>\n",
       "      <td>0.071</td>\n",
       "      <td>17.0</td>\n",
       "      <td>102.0</td>\n",
       "      <td>0.9978</td>\n",
       "      <td>3.35</td>\n",
       "      <td>0.80</td>\n",
       "      <td>10.5</td>\n",
       "      <td>5</td>\n",
       "    </tr>\n",
       "  </tbody>\n",
       "</table>\n",
       "</div>"
      ],
      "text/plain": [
       "   Parameter 1  Parameter 2  Parameter 3  Parameter 4  Parameter 5  \\\n",
       "0          7.4         0.70         0.00          1.9        0.076   \n",
       "1          7.8         0.88         0.00          2.6        0.098   \n",
       "2          7.8         0.76         0.04          2.3        0.092   \n",
       "3         11.2         0.28         0.56          1.9        0.075   \n",
       "4          7.4         0.70         0.00          1.9        0.076   \n",
       "5          7.4         0.66         0.00          1.8        0.075   \n",
       "6          7.9         0.60         0.06          1.6        0.069   \n",
       "7          7.3         0.65         0.00          1.2        0.065   \n",
       "8          7.8         0.58         0.02          2.0        0.073   \n",
       "9          7.5         0.50         0.36          6.1        0.071   \n",
       "\n",
       "   Parameter 6  Parameter 7  Parameter 8  Parameter 9  Parameter 10  \\\n",
       "0         11.0         34.0       0.9978         3.51          0.56   \n",
       "1         25.0         67.0       0.9968         3.20          0.68   \n",
       "2         15.0         54.0       0.9970         3.26          0.65   \n",
       "3         17.0         60.0       0.9980         3.16          0.58   \n",
       "4         11.0         34.0       0.9978         3.51          0.56   \n",
       "5         13.0         40.0       0.9978         3.51          0.56   \n",
       "6         15.0         59.0       0.9964         3.30          0.46   \n",
       "7         15.0         21.0       0.9946         3.39          0.47   \n",
       "8          9.0         18.0       0.9968         3.36          0.57   \n",
       "9         17.0        102.0       0.9978         3.35          0.80   \n",
       "\n",
       "   Parameter 11  Signal_Strength  \n",
       "0           9.4                5  \n",
       "1           9.8                5  \n",
       "2           9.8                5  \n",
       "3           9.8                6  \n",
       "4           9.4                5  \n",
       "5           9.4                5  \n",
       "6           9.4                5  \n",
       "7          10.0                7  \n",
       "8           9.5                7  \n",
       "9          10.5                5  "
      ]
     },
     "execution_count": 3,
     "metadata": {},
     "output_type": "execute_result"
    }
   ],
   "source": [
    "data.head(10)"
   ]
  },
  {
   "cell_type": "code",
   "execution_count": 4,
   "id": "8c8eda87",
   "metadata": {
    "ExecuteTime": {
     "end_time": "2022-11-06T03:30:26.085336Z",
     "start_time": "2022-11-06T03:30:26.069630Z"
    },
    "execution": {
     "iopub.execute_input": "2022-11-11T19:11:52.164668Z",
     "iopub.status.busy": "2022-11-11T19:11:52.164255Z",
     "iopub.status.idle": "2022-11-11T19:11:52.189474Z",
     "shell.execute_reply": "2022-11-11T19:11:52.187755Z"
    },
    "id": "2xqL0h4Rj_lp",
    "outputId": "fc037adc-3afd-4e4f-d0fe-9f16f52a521b",
    "papermill": {
     "duration": 0.042551,
     "end_time": "2022-11-11T19:11:52.193128",
     "exception": false,
     "start_time": "2022-11-11T19:11:52.150577",
     "status": "completed"
    },
    "tags": []
   },
   "outputs": [
    {
     "name": "stdout",
     "output_type": "stream",
     "text": [
      "<class 'pandas.core.frame.DataFrame'>\n",
      "RangeIndex: 1599 entries, 0 to 1598\n",
      "Data columns (total 12 columns):\n",
      " #   Column           Non-Null Count  Dtype  \n",
      "---  ------           --------------  -----  \n",
      " 0   Parameter 1      1599 non-null   float64\n",
      " 1   Parameter 2      1599 non-null   float64\n",
      " 2   Parameter 3      1599 non-null   float64\n",
      " 3   Parameter 4      1599 non-null   float64\n",
      " 4   Parameter 5      1599 non-null   float64\n",
      " 5   Parameter 6      1599 non-null   float64\n",
      " 6   Parameter 7      1599 non-null   float64\n",
      " 7   Parameter 8      1599 non-null   float64\n",
      " 8   Parameter 9      1599 non-null   float64\n",
      " 9   Parameter 10     1599 non-null   float64\n",
      " 10  Parameter 11     1599 non-null   float64\n",
      " 11  Signal_Strength  1599 non-null   int64  \n",
      "dtypes: float64(11), int64(1)\n",
      "memory usage: 150.0 KB\n"
     ]
    }
   ],
   "source": [
    "data.info()"
   ]
  },
  {
   "cell_type": "markdown",
   "id": "9c2e3ad9",
   "metadata": {
    "id": "UG1nVOFLoiR-",
    "papermill": {
     "duration": 0.012564,
     "end_time": "2022-11-11T19:11:52.219000",
     "exception": false,
     "start_time": "2022-11-11T19:11:52.206436",
     "status": "completed"
    },
    "tags": []
   },
   "source": [
    "- Data has 1599 rows and 12 columns.\n",
    "- No null values\n",
    "- 11 features to process and the last feature 'Signal_Strength' to predict\n",
    "\n",
    "\n"
   ]
  },
  {
   "cell_type": "code",
   "execution_count": 5,
   "id": "221d07d1",
   "metadata": {
    "ExecuteTime": {
     "end_time": "2022-11-06T03:30:26.100965Z",
     "start_time": "2022-11-06T03:30:26.085336Z"
    },
    "execution": {
     "iopub.execute_input": "2022-11-11T19:11:52.246732Z",
     "iopub.status.busy": "2022-11-11T19:11:52.246258Z",
     "iopub.status.idle": "2022-11-11T19:11:52.258862Z",
     "shell.execute_reply": "2022-11-11T19:11:52.257773Z"
    },
    "id": "JOCbXgrHj-_N",
    "outputId": "b5aa862b-54cc-4acc-b45f-8d10c4c6ba4c",
    "papermill": {
     "duration": 0.029685,
     "end_time": "2022-11-11T19:11:52.261680",
     "exception": false,
     "start_time": "2022-11-11T19:11:52.231995",
     "status": "completed"
    },
    "tags": []
   },
   "outputs": [
    {
     "name": "stdout",
     "output_type": "stream",
     "text": [
      "Missing value percentage per feature is as follows:\n"
     ]
    },
    {
     "data": {
      "text/plain": [
       "Parameter 1        0.0\n",
       "Parameter 2        0.0\n",
       "Parameter 3        0.0\n",
       "Parameter 4        0.0\n",
       "Parameter 5        0.0\n",
       "Parameter 6        0.0\n",
       "Parameter 7        0.0\n",
       "Parameter 8        0.0\n",
       "Parameter 9        0.0\n",
       "Parameter 10       0.0\n",
       "Parameter 11       0.0\n",
       "Signal_Strength    0.0\n",
       "dtype: float64"
      ]
     },
     "execution_count": 5,
     "metadata": {},
     "output_type": "execute_result"
    }
   ],
   "source": [
    "# checking missing values \n",
    "\n",
    "def missing_values (data): \n",
    "    print(\"Missing value percentage per feature is as follows:\")\n",
    "    return data.isnull().sum() /len(data)*100    \n",
    "    \n",
    "missing_values(data)    "
   ]
  },
  {
   "cell_type": "markdown",
   "id": "960b1ba8",
   "metadata": {
    "id": "zFVySRyYo7BQ",
    "papermill": {
     "duration": 0.012715,
     "end_time": "2022-11-11T19:11:52.287459",
     "exception": false,
     "start_time": "2022-11-11T19:11:52.274744",
     "status": "completed"
    },
    "tags": []
   },
   "source": [
    "So, there are no Missing/ Null values"
   ]
  },
  {
   "cell_type": "code",
   "execution_count": 6,
   "id": "9c61616f",
   "metadata": {
    "ExecuteTime": {
     "end_time": "2022-11-06T03:30:26.116651Z",
     "start_time": "2022-11-06T03:30:26.100965Z"
    },
    "execution": {
     "iopub.execute_input": "2022-11-11T19:11:52.315206Z",
     "iopub.status.busy": "2022-11-11T19:11:52.314794Z",
     "iopub.status.idle": "2022-11-11T19:11:52.324586Z",
     "shell.execute_reply": "2022-11-11T19:11:52.323591Z"
    },
    "id": "WzaG4TQSo_ZX",
    "outputId": "c8565362-3bfc-43e4-9e0f-9b21e392e812",
    "papermill": {
     "duration": 0.026939,
     "end_time": "2022-11-11T19:11:52.327322",
     "exception": false,
     "start_time": "2022-11-11T19:11:52.300383",
     "status": "completed"
    },
    "tags": []
   },
   "outputs": [
    {
     "name": "stdout",
     "output_type": "stream",
     "text": [
      "The dataset has 240 duplicate rows\n"
     ]
    }
   ],
   "source": [
    "# Checking duplicate values\n",
    "\n",
    "def duplicate_(data):  \n",
    "  x =  data.duplicated().sum()\n",
    "  if x != 0:\n",
    "    print(f'The dataset has {x} duplicate rows')\n",
    "  else:\n",
    "    print(f'There are no duplicate rows')\n",
    "    \n",
    "duplicate_(data)  "
   ]
  },
  {
   "cell_type": "code",
   "execution_count": 7,
   "id": "a823df49",
   "metadata": {
    "ExecuteTime": {
     "end_time": "2022-11-06T03:30:26.132132Z",
     "start_time": "2022-11-06T03:30:26.116651Z"
    },
    "execution": {
     "iopub.execute_input": "2022-11-11T19:11:52.355053Z",
     "iopub.status.busy": "2022-11-11T19:11:52.354424Z",
     "iopub.status.idle": "2022-11-11T19:11:52.367146Z",
     "shell.execute_reply": "2022-11-11T19:11:52.365421Z"
    },
    "id": "GFH5qFu1o_NN",
    "outputId": "b1d99de6-9f31-4ec5-cc88-e65e62268553",
    "papermill": {
     "duration": 0.029421,
     "end_time": "2022-11-11T19:11:52.369598",
     "exception": false,
     "start_time": "2022-11-11T19:11:52.340177",
     "status": "completed"
    },
    "tags": []
   },
   "outputs": [
    {
     "name": "stdout",
     "output_type": "stream",
     "text": [
      "After dropping the duplicate rows, the shape of the data set is:\n"
     ]
    },
    {
     "data": {
      "text/plain": [
       "(1359, 12)"
      ]
     },
     "execution_count": 7,
     "metadata": {},
     "output_type": "execute_result"
    }
   ],
   "source": [
    "#dropping duplicate rows\n",
    "\n",
    "data.drop_duplicates(inplace=True)\n",
    "print(\"After dropping the duplicate rows, the shape of the data set is:\")\n",
    "data.shape"
   ]
  },
  {
   "cell_type": "markdown",
   "id": "28c9825c",
   "metadata": {
    "id": "SYOvvSbSnxTh",
    "papermill": {
     "duration": 0.012582,
     "end_time": "2022-11-11T19:11:52.395303",
     "exception": false,
     "start_time": "2022-11-11T19:11:52.382721",
     "status": "completed"
    },
    "tags": []
   },
   "source": [
    "### Visualizing the target feature"
   ]
  },
  {
   "cell_type": "code",
   "execution_count": 8,
   "id": "9b6b1c55",
   "metadata": {
    "ExecuteTime": {
     "end_time": "2022-11-06T03:30:26.147756Z",
     "start_time": "2022-11-06T03:30:26.132132Z"
    },
    "execution": {
     "iopub.execute_input": "2022-11-11T19:11:52.423935Z",
     "iopub.status.busy": "2022-11-11T19:11:52.422963Z",
     "iopub.status.idle": "2022-11-11T19:11:52.433229Z",
     "shell.execute_reply": "2022-11-11T19:11:52.432395Z"
    },
    "id": "p8LPsnSrftob",
    "outputId": "7e6d7997-d291-4dd7-fd2b-ed0e82ab132e",
    "papermill": {
     "duration": 0.028274,
     "end_time": "2022-11-11T19:11:52.436421",
     "exception": false,
     "start_time": "2022-11-11T19:11:52.408147",
     "status": "completed"
    },
    "tags": []
   },
   "outputs": [
    {
     "data": {
      "text/plain": [
       "5    577\n",
       "6    535\n",
       "7    167\n",
       "4     53\n",
       "8     17\n",
       "3     10\n",
       "Name: Signal_Strength, dtype: int64"
      ]
     },
     "execution_count": 8,
     "metadata": {},
     "output_type": "execute_result"
    }
   ],
   "source": [
    "data['Signal_Strength'].value_counts()"
   ]
  },
  {
   "cell_type": "code",
   "execution_count": 9,
   "id": "7c1c519a",
   "metadata": {
    "ExecuteTime": {
     "end_time": "2022-11-06T03:30:26.272831Z",
     "start_time": "2022-11-06T03:30:26.147756Z"
    },
    "execution": {
     "iopub.execute_input": "2022-11-11T19:11:52.474707Z",
     "iopub.status.busy": "2022-11-11T19:11:52.473769Z",
     "iopub.status.idle": "2022-11-11T19:11:52.683850Z",
     "shell.execute_reply": "2022-11-11T19:11:52.682299Z"
    },
    "id": "Ju2eAIL9o-bl",
    "outputId": "b348eed8-83cd-4bfa-908e-f6732c51f12f",
    "papermill": {
     "duration": 0.233409,
     "end_time": "2022-11-11T19:11:52.689582",
     "exception": false,
     "start_time": "2022-11-11T19:11:52.456173",
     "status": "completed"
    },
    "tags": []
   },
   "outputs": [
    {
     "data": {
      "image/png": "[encoded data removed]",
      "text/plain": [
       "<Figure size 576x432 with 1 Axes>"
      ]
     },
     "metadata": {},
     "output_type": "display_data"
    }
   ],
   "source": [
    "data['Signal_Strength'].value_counts().plot(kind='pie', figsize=(8, 6))\n",
    "plt.title(\"Distribution of Signal Strength wrt the classes\", y=1.02)\n",
    "plt.show()"
   ]
  },
  {
   "cell_type": "markdown",
   "id": "52e0e227",
   "metadata": {
    "id": "nPIhT7umhdTd",
    "papermill": {
     "duration": 0.013539,
     "end_time": "2022-11-11T19:11:52.739920",
     "exception": false,
     "start_time": "2022-11-11T19:11:52.726381",
     "status": "completed"
    },
    "tags": []
   },
   "source": [
    "# 2. Data preprocessing"
   ]
  },
  {
   "cell_type": "code",
   "execution_count": 10,
   "id": "6a0c6174",
   "metadata": {
    "ExecuteTime": {
     "end_time": "2022-11-06T03:30:26.413351Z",
     "start_time": "2022-11-06T03:30:26.397733Z"
    },
    "execution": {
     "iopub.execute_input": "2022-11-11T19:11:52.769573Z",
     "iopub.status.busy": "2022-11-11T19:11:52.768971Z",
     "iopub.status.idle": "2022-11-11T19:11:52.774047Z",
     "shell.execute_reply": "2022-11-11T19:11:52.773319Z"
    },
    "id": "sZ1cymvLAQWy",
    "papermill": {
     "duration": 0.02275,
     "end_time": "2022-11-11T19:11:52.776364",
     "exception": false,
     "start_time": "2022-11-11T19:11:52.753614",
     "status": "completed"
    },
    "tags": []
   },
   "outputs": [],
   "source": [
    "# splitting data into X and Y\n",
    "X = data.drop('Signal_Strength',axis=1) \n",
    "y = data['Signal_Strength'] "
   ]
  },
  {
   "cell_type": "code",
   "execution_count": 11,
   "id": "71c991be",
   "metadata": {
    "ExecuteTime": {
     "end_time": "2022-11-06T03:30:26.428975Z",
     "start_time": "2022-11-06T03:30:26.413351Z"
    },
    "execution": {
     "iopub.execute_input": "2022-11-11T19:11:52.806208Z",
     "iopub.status.busy": "2022-11-11T19:11:52.805617Z",
     "iopub.status.idle": "2022-11-11T19:11:52.811170Z",
     "shell.execute_reply": "2022-11-11T19:11:52.809579Z"
    },
    "id": "dUNuLIQ71OKd",
    "outputId": "02ce6297-e8b0-4e06-8492-3660aa97e0e2",
    "papermill": {
     "duration": 0.023306,
     "end_time": "2022-11-11T19:11:52.813532",
     "exception": false,
     "start_time": "2022-11-11T19:11:52.790226",
     "status": "completed"
    },
    "tags": []
   },
   "outputs": [
    {
     "name": "stdout",
     "output_type": "stream",
     "text": [
      "(1359, 11)\n",
      "(1359,)\n"
     ]
    }
   ],
   "source": [
    "print(X.shape)\n",
    "print(y.shape)"
   ]
  },
  {
   "cell_type": "code",
   "execution_count": 12,
   "id": "006b4f26",
   "metadata": {
    "ExecuteTime": {
     "end_time": "2022-11-06T03:30:26.663323Z",
     "start_time": "2022-11-06T03:30:26.428975Z"
    },
    "execution": {
     "iopub.execute_input": "2022-11-11T19:11:52.845960Z",
     "iopub.status.busy": "2022-11-11T19:11:52.844224Z",
     "iopub.status.idle": "2022-11-11T19:11:52.993314Z",
     "shell.execute_reply": "2022-11-11T19:11:52.991898Z"
    },
    "id": "BlpSz1nk5PHZ",
    "papermill": {
     "duration": 0.168655,
     "end_time": "2022-11-11T19:11:52.996261",
     "exception": false,
     "start_time": "2022-11-11T19:11:52.827606",
     "status": "completed"
    },
    "tags": []
   },
   "outputs": [],
   "source": [
    "from sklearn.preprocessing import LabelEncoder"
   ]
  },
  {
   "cell_type": "code",
   "execution_count": 13,
   "id": "110d187b",
   "metadata": {
    "ExecuteTime": {
     "end_time": "2022-11-06T03:30:26.678939Z",
     "start_time": "2022-11-06T03:30:26.663323Z"
    },
    "execution": {
     "iopub.execute_input": "2022-11-11T19:11:53.026359Z",
     "iopub.status.busy": "2022-11-11T19:11:53.025754Z",
     "iopub.status.idle": "2022-11-11T19:11:53.033207Z",
     "shell.execute_reply": "2022-11-11T19:11:53.031759Z"
    },
    "id": "mVGOGZjG1YKr",
    "papermill": {
     "duration": 0.025867,
     "end_time": "2022-11-11T19:11:53.035973",
     "exception": false,
     "start_time": "2022-11-11T19:11:53.010106",
     "status": "completed"
    },
    "tags": []
   },
   "outputs": [],
   "source": [
    "le = LabelEncoder()\n",
    "y = le.fit_transform(y)"
   ]
  },
  {
   "cell_type": "code",
   "execution_count": 14,
   "id": "e2fdf538",
   "metadata": {
    "ExecuteTime": {
     "end_time": "2022-11-06T03:30:26.694572Z",
     "start_time": "2022-11-06T03:30:26.678939Z"
    },
    "execution": {
     "iopub.execute_input": "2022-11-11T19:11:53.065791Z",
     "iopub.status.busy": "2022-11-11T19:11:53.065290Z",
     "iopub.status.idle": "2022-11-11T19:11:53.072766Z",
     "shell.execute_reply": "2022-11-11T19:11:53.071634Z"
    },
    "id": "FFRlED8D5cEj",
    "outputId": "a5ce4203-dcef-4bdb-892f-2fde5d2b1f33",
    "papermill": {
     "duration": 0.025398,
     "end_time": "2022-11-11T19:11:53.075116",
     "exception": false,
     "start_time": "2022-11-11T19:11:53.049718",
     "status": "completed"
    },
    "tags": []
   },
   "outputs": [
    {
     "data": {
      "text/plain": [
       "(1359,)"
      ]
     },
     "execution_count": 14,
     "metadata": {},
     "output_type": "execute_result"
    }
   ],
   "source": [
    "y.shape"
   ]
  },
  {
   "cell_type": "code",
   "execution_count": 15,
   "id": "7ed5c45f",
   "metadata": {
    "execution": {
     "iopub.execute_input": "2022-11-11T19:11:53.105150Z",
     "iopub.status.busy": "2022-11-11T19:11:53.104644Z",
     "iopub.status.idle": "2022-11-11T19:11:53.474749Z",
     "shell.execute_reply": "2022-11-11T19:11:53.473694Z"
    },
    "papermill": {
     "duration": 0.388808,
     "end_time": "2022-11-11T19:11:53.477752",
     "exception": false,
     "start_time": "2022-11-11T19:11:53.088944",
     "status": "completed"
    },
    "tags": []
   },
   "outputs": [],
   "source": [
    "from imblearn.over_sampling import SMOTE"
   ]
  },
  {
   "cell_type": "code",
   "execution_count": 16,
   "id": "d2302060",
   "metadata": {
    "execution": {
     "iopub.execute_input": "2022-11-11T19:11:53.510945Z",
     "iopub.status.busy": "2022-11-11T19:11:53.510552Z",
     "iopub.status.idle": "2022-11-11T19:11:53.542324Z",
     "shell.execute_reply": "2022-11-11T19:11:53.540866Z"
    },
    "papermill": {
     "duration": 0.052939,
     "end_time": "2022-11-11T19:11:53.546067",
     "exception": false,
     "start_time": "2022-11-11T19:11:53.493128",
     "status": "completed"
    },
    "tags": []
   },
   "outputs": [],
   "source": [
    "oversample = SMOTE()\n",
    "X, y = oversample.fit_resample(X, y)"
   ]
  },
  {
   "cell_type": "code",
   "execution_count": 17,
   "id": "a5b02672",
   "metadata": {
    "execution": {
     "iopub.execute_input": "2022-11-11T19:11:53.580400Z",
     "iopub.status.busy": "2022-11-11T19:11:53.579883Z",
     "iopub.status.idle": "2022-11-11T19:11:53.586808Z",
     "shell.execute_reply": "2022-11-11T19:11:53.585577Z"
    },
    "papermill": {
     "duration": 0.025592,
     "end_time": "2022-11-11T19:11:53.589396",
     "exception": false,
     "start_time": "2022-11-11T19:11:53.563804",
     "status": "completed"
    },
    "tags": []
   },
   "outputs": [
    {
     "name": "stdout",
     "output_type": "stream",
     "text": [
      "(3462, 11)\n",
      "(3462,)\n"
     ]
    }
   ],
   "source": [
    "print(X.shape)\n",
    "print(y.shape)"
   ]
  },
  {
   "cell_type": "code",
   "execution_count": 18,
   "id": "bddf1dd6",
   "metadata": {
    "ExecuteTime": {
     "end_time": "2022-11-06T03:30:26.741441Z",
     "start_time": "2022-11-06T03:30:26.694572Z"
    },
    "execution": {
     "iopub.execute_input": "2022-11-11T19:11:53.620024Z",
     "iopub.status.busy": "2022-11-11T19:11:53.619612Z",
     "iopub.status.idle": "2022-11-11T19:11:53.632040Z",
     "shell.execute_reply": "2022-11-11T19:11:53.630674Z"
    },
    "id": "YxGEguoUAQPK",
    "outputId": "9c31917c-53b8-43dc-f68d-635ccf99012e",
    "papermill": {
     "duration": 0.030923,
     "end_time": "2022-11-11T19:11:53.634618",
     "exception": false,
     "start_time": "2022-11-11T19:11:53.603695",
     "status": "completed"
    },
    "tags": []
   },
   "outputs": [
    {
     "data": {
      "text/plain": [
       "((2769, 11), (693, 11), (2769,), (693,))"
      ]
     },
     "execution_count": 18,
     "metadata": {},
     "output_type": "execute_result"
    }
   ],
   "source": [
    "# splitting the data into train & test with 70:30 proportion\n",
    "\n",
    "# Split data into train and test sets\n",
    "from sklearn.model_selection import train_test_split\n",
    "\n",
    "X_play, X_test, y_play, y_test = train_test_split(X, \n",
    "                                                    y, \n",
    "                                                    test_size=0.2, \n",
    "                                                    random_state=42) \n",
    "\n",
    "X_play.shape, X_test.shape, y_play.shape, y_test.shape"
   ]
  },
  {
   "cell_type": "code",
   "execution_count": 19,
   "id": "5269e049",
   "metadata": {
    "execution": {
     "iopub.execute_input": "2022-11-11T19:11:53.667894Z",
     "iopub.status.busy": "2022-11-11T19:11:53.667399Z",
     "iopub.status.idle": "2022-11-11T19:11:53.680412Z",
     "shell.execute_reply": "2022-11-11T19:11:53.678834Z"
    },
    "papermill": {
     "duration": 0.032441,
     "end_time": "2022-11-11T19:11:53.682958",
     "exception": false,
     "start_time": "2022-11-11T19:11:53.650517",
     "status": "completed"
    },
    "tags": []
   },
   "outputs": [
    {
     "data": {
      "text/plain": [
       "((2215, 11), (554, 11), (2215,), (554,))"
      ]
     },
     "execution_count": 19,
     "metadata": {},
     "output_type": "execute_result"
    }
   ],
   "source": [
    "X_train, X_val, y_train, y_val = train_test_split(X_play, \n",
    "                                                    y_play, \n",
    "                                                    test_size=0.2, \n",
    "                                                    random_state=42) \n",
    "\n",
    "X_train.shape, X_val.shape, y_train.shape, y_val.shape"
   ]
  },
  {
   "cell_type": "code",
   "execution_count": 20,
   "id": "7021f915",
   "metadata": {
    "ExecuteTime": {
     "end_time": "2022-11-06T03:30:26.757064Z",
     "start_time": "2022-11-06T03:30:26.741441Z"
    },
    "execution": {
     "iopub.execute_input": "2022-11-11T19:11:53.715382Z",
     "iopub.status.busy": "2022-11-11T19:11:53.714433Z",
     "iopub.status.idle": "2022-11-11T19:11:53.720959Z",
     "shell.execute_reply": "2022-11-11T19:11:53.719634Z"
    },
    "id": "xg-cC4QJ57o5",
    "papermill": {
     "duration": 0.025088,
     "end_time": "2022-11-11T19:11:53.723390",
     "exception": false,
     "start_time": "2022-11-11T19:11:53.698302",
     "status": "completed"
    },
    "tags": []
   },
   "outputs": [],
   "source": [
    "from sklearn.preprocessing import StandardScaler"
   ]
  },
  {
   "cell_type": "code",
   "execution_count": 21,
   "id": "692a2e60",
   "metadata": {
    "ExecuteTime": {
     "end_time": "2022-11-06T03:30:26.772688Z",
     "start_time": "2022-11-06T03:30:26.757064Z"
    },
    "execution": {
     "iopub.execute_input": "2022-11-11T19:11:53.753640Z",
     "iopub.status.busy": "2022-11-11T19:11:53.752732Z",
     "iopub.status.idle": "2022-11-11T19:11:53.767149Z",
     "shell.execute_reply": "2022-11-11T19:11:53.765925Z"
    },
    "id": "BfGGqX2o5tDV",
    "papermill": {
     "duration": 0.032617,
     "end_time": "2022-11-11T19:11:53.769979",
     "exception": false,
     "start_time": "2022-11-11T19:11:53.737362",
     "status": "completed"
    },
    "tags": []
   },
   "outputs": [],
   "source": [
    "#normalize the dataset using standard scaler\n",
    "\n",
    "sc = StandardScaler()\n",
    "\n",
    "X_train = sc.fit_transform(X_train)\n",
    "X_test = sc.transform(X_test)\n",
    "X_val = sc.transform(X_val)"
   ]
  },
  {
   "cell_type": "code",
   "execution_count": 22,
   "id": "07a6d08d",
   "metadata": {
    "ExecuteTime": {
     "end_time": "2022-11-06T03:30:29.116186Z",
     "start_time": "2022-11-06T03:30:26.772688Z"
    },
    "execution": {
     "iopub.execute_input": "2022-11-11T19:11:53.801367Z",
     "iopub.status.busy": "2022-11-11T19:11:53.799778Z",
     "iopub.status.idle": "2022-11-11T19:11:59.646128Z",
     "shell.execute_reply": "2022-11-11T19:11:59.644713Z"
    },
    "id": "cfAoxcog6Qgx",
    "papermill": {
     "duration": 5.865034,
     "end_time": "2022-11-11T19:11:59.649285",
     "exception": false,
     "start_time": "2022-11-11T19:11:53.784251",
     "status": "completed"
    },
    "tags": []
   },
   "outputs": [],
   "source": [
    "from tensorflow.keras.utils import to_categorical"
   ]
  },
  {
   "cell_type": "code",
   "execution_count": 23,
   "id": "3ac13b32",
   "metadata": {
    "ExecuteTime": {
     "end_time": "2022-11-06T03:30:29.131811Z",
     "start_time": "2022-11-06T03:30:29.116186Z"
    },
    "execution": {
     "iopub.execute_input": "2022-11-11T19:11:59.681533Z",
     "iopub.status.busy": "2022-11-11T19:11:59.680618Z",
     "iopub.status.idle": "2022-11-11T19:11:59.688497Z",
     "shell.execute_reply": "2022-11-11T19:11:59.687181Z"
    },
    "id": "qd_lnWXF6Fza",
    "papermill": {
     "duration": 0.027184,
     "end_time": "2022-11-11T19:11:59.691152",
     "exception": false,
     "start_time": "2022-11-11T19:11:59.663968",
     "status": "completed"
    },
    "tags": []
   },
   "outputs": [],
   "source": [
    "# one hot encode outputs\n",
    "y_train = to_categorical(y_train)\n",
    "y_test = to_categorical(y_test)\n",
    "y_val = to_categorical(y_val)"
   ]
  },
  {
   "cell_type": "code",
   "execution_count": 24,
   "id": "379d4d25",
   "metadata": {
    "ExecuteTime": {
     "end_time": "2022-11-06T03:30:29.147435Z",
     "start_time": "2022-11-06T03:30:29.131811Z"
    },
    "execution": {
     "iopub.execute_input": "2022-11-11T19:11:59.722268Z",
     "iopub.status.busy": "2022-11-11T19:11:59.721872Z",
     "iopub.status.idle": "2022-11-11T19:11:59.729767Z",
     "shell.execute_reply": "2022-11-11T19:11:59.728314Z"
    },
    "id": "sAT28xo06bBu",
    "outputId": "20ca659d-b1f7-4c32-e48e-d4a8e062fc50",
    "papermill": {
     "duration": 0.026586,
     "end_time": "2022-11-11T19:11:59.732478",
     "exception": false,
     "start_time": "2022-11-11T19:11:59.705892",
     "status": "completed"
    },
    "tags": []
   },
   "outputs": [
    {
     "data": {
      "text/plain": [
       "(2215, 6)"
      ]
     },
     "execution_count": 24,
     "metadata": {},
     "output_type": "execute_result"
    }
   ],
   "source": [
    "y_train.shape"
   ]
  },
  {
   "cell_type": "markdown",
   "id": "e09b9d54",
   "metadata": {
    "id": "12HbkImOUQmN",
    "papermill": {
     "duration": 0.014188,
     "end_time": "2022-11-11T19:11:59.761077",
     "exception": false,
     "start_time": "2022-11-11T19:11:59.746889",
     "status": "completed"
    },
    "tags": []
   },
   "source": [
    "# Onto Neural Network"
   ]
  },
  {
   "cell_type": "code",
   "execution_count": 25,
   "id": "33ac0f6b",
   "metadata": {
    "execution": {
     "iopub.execute_input": "2022-11-11T19:11:59.792662Z",
     "iopub.status.busy": "2022-11-11T19:11:59.791946Z",
     "iopub.status.idle": "2022-11-11T19:11:59.798681Z",
     "shell.execute_reply": "2022-11-11T19:11:59.797397Z"
    },
    "papermill": {
     "duration": 0.025733,
     "end_time": "2022-11-11T19:11:59.801746",
     "exception": false,
     "start_time": "2022-11-11T19:11:59.776013",
     "status": "completed"
    },
    "tags": []
   },
   "outputs": [],
   "source": [
    "from tensorflow.keras.optimizers import Adam\n",
    "from tensorflow.keras.metrics import Precision, Recall"
   ]
  },
  {
   "cell_type": "code",
   "execution_count": 26,
   "id": "ba781c00",
   "metadata": {
    "execution": {
     "iopub.execute_input": "2022-11-11T19:11:59.832825Z",
     "iopub.status.busy": "2022-11-11T19:11:59.832427Z",
     "iopub.status.idle": "2022-11-11T19:11:59.901443Z",
     "shell.execute_reply": "2022-11-11T19:11:59.900541Z"
    },
    "papermill": {
     "duration": 0.087809,
     "end_time": "2022-11-11T19:11:59.904201",
     "exception": false,
     "start_time": "2022-11-11T19:11:59.816392",
     "status": "completed"
    },
    "tags": []
   },
   "outputs": [
    {
     "name": "stderr",
     "output_type": "stream",
     "text": [
      "2022-11-11 19:11:59.869928: I tensorflow/core/common_runtime/process_util.cc:146] Creating new thread pool with default inter op setting: 2. Tune using inter_op_parallelism_threads for best performance.\n"
     ]
    }
   ],
   "source": [
    "metrics = ['accuracy',\n",
    "    Precision(name='precision'),\n",
    "    Recall(name='recall')\n",
    "]"
   ]
  },
  {
   "cell_type": "code",
   "execution_count": 27,
   "id": "52f564a8",
   "metadata": {
    "execution": {
     "iopub.execute_input": "2022-11-11T19:11:59.935586Z",
     "iopub.status.busy": "2022-11-11T19:11:59.935160Z",
     "iopub.status.idle": "2022-11-11T19:11:59.947966Z",
     "shell.execute_reply": "2022-11-11T19:11:59.946750Z"
    },
    "papermill": {
     "duration": 0.031333,
     "end_time": "2022-11-11T19:11:59.950202",
     "exception": false,
     "start_time": "2022-11-11T19:11:59.918869",
     "status": "completed"
    },
    "tags": []
   },
   "outputs": [],
   "source": [
    "def evolution(model, epochs):\n",
    "    epochs = range(1,epochs+1)\n",
    "    \n",
    "    plt.figure(figsize=(20, 25))\n",
    "    \n",
    "    plt.subplot(4, 2, 1)\n",
    "    loss_train = model.history['loss']\n",
    "    loss_val = model.history['val_loss']\n",
    "    plt.plot(epochs, loss_train, 'g', label='Training loss')\n",
    "    plt.plot(epochs, loss_val, 'b', label='validation loss')\n",
    "    plt.title('Loss Function Evolution')\n",
    "    plt.xlabel('Epochs')\n",
    "    plt.ylabel('Loss')\n",
    "    plt.legend()\n",
    "\n",
    "    \n",
    "    plt.subplot(4, 2, 2)\n",
    "    accuracy_train = model.history['accuracy']\n",
    "    accuracy_val = model.history['val_accuracy']\n",
    "    plt.plot(epochs, accuracy_train, 'g', label='Training accuracy')\n",
    "    plt.plot(epochs, accuracy_val, 'b', label='validation accuracy')\n",
    "    plt.title('Accuracy Function Evolution')\n",
    "    plt.xlabel('Epochs')\n",
    "    plt.ylabel('Accuracy')\n",
    "    plt.legend()\n",
    "\n",
    "\n",
    "    plt.subplot(4, 2, 3)\n",
    "    precision_train = model.history['precision']\n",
    "    precision_val = model.history['val_precision']\n",
    "    plt.plot(epochs, precision_train, 'g', label='Training precision')\n",
    "    plt.plot(epochs, precision_val, 'b', label='validation precision')\n",
    "    plt.title('Precision Function Evolution')\n",
    "    plt.xlabel('Epochs')\n",
    "    plt.ylabel('Accuracy')\n",
    "    plt.legend()\n",
    "\n",
    "\n",
    "\n",
    "    plt.subplot(4, 2, 4)\n",
    "    recall_train = model.history['recall']\n",
    "    recall_val = model.history['val_recall']\n",
    "    plt.plot(epochs, recall_train, 'g', label='Training recall')\n",
    "    plt.plot(epochs, recall_val, 'b', label='validation recall')\n",
    "    plt.title('Recall Function Evolution')\n",
    "    plt.xlabel('Epochs')\n",
    "    plt.ylabel('Accuracy')\n",
    "    plt.legend()\n",
    "  \n",
    "\n",
    "    return()"
   ]
  },
  {
   "cell_type": "code",
   "execution_count": 28,
   "id": "c3e9f40c",
   "metadata": {
    "execution": {
     "iopub.execute_input": "2022-11-11T19:11:59.981121Z",
     "iopub.status.busy": "2022-11-11T19:11:59.980464Z",
     "iopub.status.idle": "2022-11-11T19:11:59.986731Z",
     "shell.execute_reply": "2022-11-11T19:11:59.985696Z"
    },
    "papermill": {
     "duration": 0.024303,
     "end_time": "2022-11-11T19:11:59.989107",
     "exception": false,
     "start_time": "2022-11-11T19:11:59.964804",
     "status": "completed"
    },
    "tags": []
   },
   "outputs": [],
   "source": [
    "from tensorflow.keras.callbacks import ReduceLROnPlateau\n",
    "\n",
    "learning_rate_reduction = ReduceLROnPlateau(monitor='val_accuracy', \n",
    "                                            patience = 2, verbose=1,factor=0.3, \n",
    "                                            min_lr=0.000001)"
   ]
  },
  {
   "cell_type": "code",
   "execution_count": 29,
   "id": "914a1bd8",
   "metadata": {
    "ExecuteTime": {
     "end_time": "2022-11-06T03:30:29.163057Z",
     "start_time": "2022-11-06T03:30:29.147435Z"
    },
    "execution": {
     "iopub.execute_input": "2022-11-11T19:12:00.019430Z",
     "iopub.status.busy": "2022-11-11T19:12:00.018778Z",
     "iopub.status.idle": "2022-11-11T19:12:00.025111Z",
     "shell.execute_reply": "2022-11-11T19:12:00.024311Z"
    },
    "id": "VS3g2gsEw-x8",
    "papermill": {
     "duration": 0.024126,
     "end_time": "2022-11-11T19:12:00.027388",
     "exception": false,
     "start_time": "2022-11-11T19:12:00.003262",
     "status": "completed"
    },
    "tags": []
   },
   "outputs": [],
   "source": [
    "from tensorflow.keras.models import Sequential\n",
    "from tensorflow.keras.layers import Dense, Softmax, Input, BatchNormalization, Dropout\n",
    "from tensorflow.keras.optimizers import Adam"
   ]
  },
  {
   "cell_type": "markdown",
   "id": "f5870926",
   "metadata": {
    "papermill": {
     "duration": 0.013654,
     "end_time": "2022-11-11T19:12:00.055036",
     "exception": false,
     "start_time": "2022-11-11T19:12:00.041382",
     "status": "completed"
    },
    "tags": []
   },
   "source": [
    "### Defining a function to run multiple networks"
   ]
  },
  {
   "cell_type": "code",
   "execution_count": 30,
   "id": "6accfb9b",
   "metadata": {
    "ExecuteTime": {
     "end_time": "2022-11-06T03:30:29.178682Z",
     "start_time": "2022-11-06T03:30:29.163057Z"
    },
    "execution": {
     "iopub.execute_input": "2022-11-11T19:12:00.085085Z",
     "iopub.status.busy": "2022-11-11T19:12:00.084444Z",
     "iopub.status.idle": "2022-11-11T19:12:00.090921Z",
     "shell.execute_reply": "2022-11-11T19:12:00.090121Z"
    },
    "papermill": {
     "duration": 0.024267,
     "end_time": "2022-11-11T19:12:00.093182",
     "exception": false,
     "start_time": "2022-11-11T19:12:00.068915",
     "status": "completed"
    },
    "tags": []
   },
   "outputs": [],
   "source": [
    "def network(model, epochs, X_train, y_train, X_test, y_test):\n",
    "    print(model.summary())\n",
    "    \n",
    "    model.compile(loss='categorical_crossentropy', \n",
    "              optimizer = 'adam', \n",
    "              metrics = metrics)\n",
    "    \n",
    "    train = model.fit(X_train, y_train, validation_data=(X_test,y_test), epochs=epochs, callbacks = [learning_rate_reduction])\n",
    "\n",
    "    print('-'*20)\n",
    "    evolution(train, epochs)"
   ]
  },
  {
   "cell_type": "markdown",
   "id": "9eb30572",
   "metadata": {
    "papermill": {
     "duration": 0.013723,
     "end_time": "2022-11-11T19:12:00.120748",
     "exception": false,
     "start_time": "2022-11-11T19:12:00.107025",
     "status": "completed"
    },
    "tags": []
   },
   "source": [
    "### Model 1"
   ]
  },
  {
   "cell_type": "code",
   "execution_count": 31,
   "id": "9618abd5",
   "metadata": {
    "ExecuteTime": {
     "end_time": "2022-11-06T03:30:29.288043Z",
     "start_time": "2022-11-06T03:30:29.178682Z"
    },
    "execution": {
     "iopub.execute_input": "2022-11-11T19:12:00.150376Z",
     "iopub.status.busy": "2022-11-11T19:12:00.149957Z",
     "iopub.status.idle": "2022-11-11T19:12:00.242833Z",
     "shell.execute_reply": "2022-11-11T19:12:00.241655Z"
    },
    "id": "Im6K-HAWUb1E",
    "papermill": {
     "duration": 0.111017,
     "end_time": "2022-11-11T19:12:00.245682",
     "exception": false,
     "start_time": "2022-11-11T19:12:00.134665",
     "status": "completed"
    },
    "tags": []
   },
   "outputs": [],
   "source": [
    "model1 = Sequential([\n",
    "                    Input(shape=(11,)),   ## Input layer\n",
    "                    Dense(256, activation='relu'), \n",
    "                    Dense(112, activation='relu'),               \n",
    "                    Dense(56, activation='relu'), \n",
    "                    Dense(28, activation='relu'), \n",
    "                    Dense(14, activation='relu'), \n",
    "                    Dense(7, activation='relu'), \n",
    "                    Dense(6, activation='softmax')]) ## Output layer "
   ]
  },
  {
   "cell_type": "code",
   "execution_count": 32,
   "id": "18efb403",
   "metadata": {
    "ExecuteTime": {
     "end_time": "2022-11-06T03:30:38.373204Z",
     "start_time": "2022-11-06T03:30:29.288043Z"
    },
    "execution": {
     "iopub.execute_input": "2022-11-11T19:12:00.275206Z",
     "iopub.status.busy": "2022-11-11T19:12:00.274819Z",
     "iopub.status.idle": "2022-11-11T19:12:23.391707Z",
     "shell.execute_reply": "2022-11-11T19:12:23.390537Z"
    },
    "id": "N1la4WMqy-TT",
    "papermill": {
     "duration": 23.134894,
     "end_time": "2022-11-11T19:12:23.394507",
     "exception": false,
     "start_time": "2022-11-11T19:12:00.259613",
     "status": "completed"
    },
    "tags": []
   },
   "outputs": [
    {
     "name": "stdout",
     "output_type": "stream",
     "text": [
      "Model: \"sequential\"\n",
      "_________________________________________________________________\n",
      "Layer (type)                 Output Shape              Param #   \n",
      "=================================================================\n",
      "dense (Dense)                (None, 256)               3072      \n",
      "_________________________________________________________________\n",
      "dense_1 (Dense)              (None, 112)               28784     \n",
      "_________________________________________________________________\n",
      "dense_2 (Dense)              (None, 56)                6328      \n",
      "_________________________________________________________________\n",
      "dense_3 (Dense)              (None, 28)                1596      \n",
      "_________________________________________________________________\n",
      "dense_4 (Dense)              (None, 14)                406       \n",
      "_________________________________________________________________\n",
      "dense_5 (Dense)              (None, 7)                 105       \n",
      "_________________________________________________________________\n",
      "dense_6 (Dense)              (None, 6)                 48        \n",
      "=================================================================\n",
      "Total params: 40,339\n",
      "Trainable params: 40,339\n",
      "Non-trainable params: 0\n",
      "_________________________________________________________________\n",
      "None\n",
      "Epoch 1/50\n"
     ]
    },
    {
     "name": "stderr",
     "output_type": "stream",
     "text": [
      "2022-11-11 19:12:00.367981: I tensorflow/compiler/mlir/mlir_graph_optimization_pass.cc:185] None of the MLIR Optimization Passes are enabled (registered 2)\n"
     ]
    },
    {
     "name": "stdout",
     "output_type": "stream",
     "text": [
      "70/70 [==============================] - 2s 12ms/step - loss: 1.5746 - accuracy: 0.3499 - precision: 0.6260 - recall: 0.0348 - val_loss: 1.3143 - val_accuracy: 0.5180 - val_precision: 0.7540 - val_recall: 0.1371\n",
      "Epoch 2/50\n",
      "70/70 [==============================] - 0s 6ms/step - loss: 1.1019 - accuracy: 0.5797 - precision: 0.7920 - recall: 0.2939 - val_loss: 0.8994 - val_accuracy: 0.6335 - val_precision: 0.7572 - val_recall: 0.4949\n",
      "Epoch 3/50\n",
      "70/70 [==============================] - 0s 6ms/step - loss: 0.8505 - accuracy: 0.6483 - precision: 0.7417 - recall: 0.5327 - val_loss: 0.8182 - val_accuracy: 0.6840 - val_precision: 0.7904 - val_recall: 0.5007\n",
      "Epoch 4/50\n",
      "70/70 [==============================] - 0s 5ms/step - loss: 0.7291 - accuracy: 0.7169 - precision: 0.7957 - recall: 0.6086 - val_loss: 0.7681 - val_accuracy: 0.6941 - val_precision: 0.7816 - val_recall: 0.5887\n",
      "Epoch 5/50\n",
      "70/70 [==============================] - 0s 6ms/step - loss: 0.6645 - accuracy: 0.7372 - precision: 0.8168 - recall: 0.6483 - val_loss: 0.6603 - val_accuracy: 0.7446 - val_precision: 0.8216 - val_recall: 0.6378\n",
      "Epoch 6/50\n",
      "70/70 [==============================] - 0s 6ms/step - loss: 0.6243 - accuracy: 0.7585 - precision: 0.8202 - recall: 0.6695 - val_loss: 0.6667 - val_accuracy: 0.7215 - val_precision: 0.8140 - val_recall: 0.6566\n",
      "Epoch 7/50\n",
      "70/70 [==============================] - 0s 6ms/step - loss: 0.6043 - accuracy: 0.7621 - precision: 0.8187 - recall: 0.6808 - val_loss: 0.6422 - val_accuracy: 0.7547 - val_precision: 0.8193 - val_recall: 0.6479\n",
      "Epoch 8/50\n",
      "70/70 [==============================] - 0s 6ms/step - loss: 0.5693 - accuracy: 0.7801 - precision: 0.8300 - recall: 0.7052 - val_loss: 0.6407 - val_accuracy: 0.7489 - val_precision: 0.8122 - val_recall: 0.6739\n",
      "Epoch 9/50\n",
      "70/70 [==============================] - 1s 7ms/step - loss: 0.5586 - accuracy: 0.7648 - precision: 0.8257 - recall: 0.7016 - val_loss: 0.6669 - val_accuracy: 0.7431 - val_precision: 0.7935 - val_recall: 0.6710\n",
      "\n",
      "Epoch 00009: ReduceLROnPlateau reducing learning rate to 0.0003000000142492354.\n",
      "Epoch 10/50\n",
      "70/70 [==============================] - 0s 5ms/step - loss: 0.5137 - accuracy: 0.7991 - precision: 0.8520 - recall: 0.7381 - val_loss: 0.5781 - val_accuracy: 0.7821 - val_precision: 0.8302 - val_recall: 0.7056\n",
      "Epoch 11/50\n",
      "70/70 [==============================] - 0s 6ms/step - loss: 0.4785 - accuracy: 0.8108 - precision: 0.8675 - recall: 0.7508 - val_loss: 0.5715 - val_accuracy: 0.7850 - val_precision: 0.8336 - val_recall: 0.7157\n",
      "Epoch 12/50\n",
      "70/70 [==============================] - 0s 6ms/step - loss: 0.4738 - accuracy: 0.8140 - precision: 0.8573 - recall: 0.7567 - val_loss: 0.5729 - val_accuracy: 0.7922 - val_precision: 0.8341 - val_recall: 0.7403\n",
      "Epoch 13/50\n",
      "70/70 [==============================] - 0s 6ms/step - loss: 0.4572 - accuracy: 0.8226 - precision: 0.8632 - recall: 0.7688 - val_loss: 0.5714 - val_accuracy: 0.7835 - val_precision: 0.8298 - val_recall: 0.7316\n",
      "Epoch 14/50\n",
      "70/70 [==============================] - 0s 6ms/step - loss: 0.4508 - accuracy: 0.8217 - precision: 0.8660 - recall: 0.7702 - val_loss: 0.5689 - val_accuracy: 0.7821 - val_precision: 0.8375 - val_recall: 0.7215\n",
      "\n",
      "Epoch 00014: ReduceLROnPlateau reducing learning rate to 9.000000427477062e-05.\n",
      "Epoch 15/50\n",
      "70/70 [==============================] - 0s 6ms/step - loss: 0.4341 - accuracy: 0.8271 - precision: 0.8714 - recall: 0.7828 - val_loss: 0.5637 - val_accuracy: 0.7908 - val_precision: 0.8342 - val_recall: 0.7330\n",
      "Epoch 16/50\n",
      "70/70 [==============================] - 0s 5ms/step - loss: 0.4293 - accuracy: 0.8289 - precision: 0.8731 - recall: 0.7856 - val_loss: 0.5563 - val_accuracy: 0.7965 - val_precision: 0.8369 - val_recall: 0.7330\n",
      "Epoch 17/50\n",
      "70/70 [==============================] - 0s 5ms/step - loss: 0.4270 - accuracy: 0.8307 - precision: 0.8712 - recall: 0.7847 - val_loss: 0.5602 - val_accuracy: 0.7893 - val_precision: 0.8288 - val_recall: 0.7403\n",
      "Epoch 18/50\n",
      "70/70 [==============================] - 0s 6ms/step - loss: 0.4236 - accuracy: 0.8302 - precision: 0.8718 - recall: 0.7923 - val_loss: 0.5566 - val_accuracy: 0.7908 - val_precision: 0.8377 - val_recall: 0.7374\n",
      "\n",
      "Epoch 00018: ReduceLROnPlateau reducing learning rate to 2.700000040931627e-05.\n",
      "Epoch 19/50\n",
      "70/70 [==============================] - 0s 6ms/step - loss: 0.4186 - accuracy: 0.8334 - precision: 0.8753 - recall: 0.7923 - val_loss: 0.5577 - val_accuracy: 0.7908 - val_precision: 0.8358 - val_recall: 0.7417\n",
      "Epoch 20/50\n",
      "70/70 [==============================] - 0s 6ms/step - loss: 0.4175 - accuracy: 0.8343 - precision: 0.8731 - recall: 0.7923 - val_loss: 0.5573 - val_accuracy: 0.7908 - val_precision: 0.8344 - val_recall: 0.7417\n",
      "\n",
      "Epoch 00020: ReduceLROnPlateau reducing learning rate to 8.100000013655517e-06.\n",
      "Epoch 21/50\n",
      "70/70 [==============================] - 0s 7ms/step - loss: 0.4158 - accuracy: 0.8343 - precision: 0.8755 - recall: 0.7937 - val_loss: 0.5572 - val_accuracy: 0.7922 - val_precision: 0.8358 - val_recall: 0.7417\n",
      "Epoch 22/50\n",
      "70/70 [==============================] - 1s 10ms/step - loss: 0.4155 - accuracy: 0.8339 - precision: 0.8756 - recall: 0.7946 - val_loss: 0.5570 - val_accuracy: 0.7908 - val_precision: 0.8358 - val_recall: 0.7417\n",
      "\n",
      "Epoch 00022: ReduceLROnPlateau reducing learning rate to 2.429999949526973e-06.\n",
      "Epoch 23/50\n",
      "70/70 [==============================] - 0s 7ms/step - loss: 0.4150 - accuracy: 0.8348 - precision: 0.8749 - recall: 0.7955 - val_loss: 0.5569 - val_accuracy: 0.7908 - val_precision: 0.8385 - val_recall: 0.7417\n",
      "Epoch 24/50\n",
      "70/70 [==============================] - 0s 5ms/step - loss: 0.4149 - accuracy: 0.8348 - precision: 0.8748 - recall: 0.7950 - val_loss: 0.5568 - val_accuracy: 0.7908 - val_precision: 0.8371 - val_recall: 0.7417\n",
      "\n",
      "Epoch 00024: ReduceLROnPlateau reducing learning rate to 1e-06.\n",
      "Epoch 25/50\n",
      "70/70 [==============================] - 0s 6ms/step - loss: 0.4147 - accuracy: 0.8348 - precision: 0.8749 - recall: 0.7955 - val_loss: 0.5568 - val_accuracy: 0.7908 - val_precision: 0.8371 - val_recall: 0.7417\n",
      "Epoch 26/50\n",
      "70/70 [==============================] - 0s 6ms/step - loss: 0.4147 - accuracy: 0.8348 - precision: 0.8749 - recall: 0.7959 - val_loss: 0.5568 - val_accuracy: 0.7908 - val_precision: 0.8371 - val_recall: 0.7417\n",
      "Epoch 27/50\n",
      "70/70 [==============================] - 0s 6ms/step - loss: 0.4147 - accuracy: 0.8348 - precision: 0.8749 - recall: 0.7955 - val_loss: 0.5568 - val_accuracy: 0.7908 - val_precision: 0.8371 - val_recall: 0.7417\n",
      "Epoch 28/50\n",
      "70/70 [==============================] - 0s 6ms/step - loss: 0.4146 - accuracy: 0.8348 - precision: 0.8749 - recall: 0.7955 - val_loss: 0.5567 - val_accuracy: 0.7908 - val_precision: 0.8385 - val_recall: 0.7417\n",
      "Epoch 29/50\n",
      "70/70 [==============================] - 0s 6ms/step - loss: 0.4146 - accuracy: 0.8348 - precision: 0.8749 - recall: 0.7955 - val_loss: 0.5567 - val_accuracy: 0.7922 - val_precision: 0.8385 - val_recall: 0.7417\n",
      "Epoch 30/50\n",
      "70/70 [==============================] - 0s 6ms/step - loss: 0.4146 - accuracy: 0.8348 - precision: 0.8749 - recall: 0.7955 - val_loss: 0.5566 - val_accuracy: 0.7908 - val_precision: 0.8371 - val_recall: 0.7417\n",
      "Epoch 31/50\n",
      "70/70 [==============================] - 0s 5ms/step - loss: 0.4146 - accuracy: 0.8348 - precision: 0.8744 - recall: 0.7950 - val_loss: 0.5566 - val_accuracy: 0.7922 - val_precision: 0.8371 - val_recall: 0.7417\n",
      "Epoch 32/50\n",
      "70/70 [==============================] - 0s 6ms/step - loss: 0.4145 - accuracy: 0.8352 - precision: 0.8748 - recall: 0.7950 - val_loss: 0.5566 - val_accuracy: 0.7908 - val_precision: 0.8371 - val_recall: 0.7417\n",
      "Epoch 33/50\n",
      "70/70 [==============================] - 0s 6ms/step - loss: 0.4145 - accuracy: 0.8348 - precision: 0.8749 - recall: 0.7955 - val_loss: 0.5567 - val_accuracy: 0.7922 - val_precision: 0.8371 - val_recall: 0.7417\n",
      "Epoch 34/50\n",
      "70/70 [==============================] - 0s 5ms/step - loss: 0.4144 - accuracy: 0.8348 - precision: 0.8749 - recall: 0.7955 - val_loss: 0.5567 - val_accuracy: 0.7922 - val_precision: 0.8371 - val_recall: 0.7417\n",
      "Epoch 35/50\n",
      "70/70 [==============================] - 0s 7ms/step - loss: 0.4144 - accuracy: 0.8348 - precision: 0.8749 - recall: 0.7955 - val_loss: 0.5566 - val_accuracy: 0.7908 - val_precision: 0.8371 - val_recall: 0.7417\n",
      "Epoch 36/50\n",
      "70/70 [==============================] - 0s 6ms/step - loss: 0.4144 - accuracy: 0.8352 - precision: 0.8748 - recall: 0.7950 - val_loss: 0.5567 - val_accuracy: 0.7922 - val_precision: 0.8385 - val_recall: 0.7417\n",
      "Epoch 37/50\n",
      "70/70 [==============================] - 0s 6ms/step - loss: 0.4143 - accuracy: 0.8357 - precision: 0.8744 - recall: 0.7950 - val_loss: 0.5566 - val_accuracy: 0.7922 - val_precision: 0.8385 - val_recall: 0.7417\n",
      "Epoch 38/50\n",
      "70/70 [==============================] - 0s 5ms/step - loss: 0.4143 - accuracy: 0.8357 - precision: 0.8748 - recall: 0.7950 - val_loss: 0.5566 - val_accuracy: 0.7908 - val_precision: 0.8385 - val_recall: 0.7417\n",
      "Epoch 39/50\n",
      "70/70 [==============================] - 0s 5ms/step - loss: 0.4143 - accuracy: 0.8357 - precision: 0.8748 - recall: 0.7950 - val_loss: 0.5566 - val_accuracy: 0.7908 - val_precision: 0.8385 - val_recall: 0.7417\n",
      "Epoch 40/50\n",
      "70/70 [==============================] - 0s 5ms/step - loss: 0.4142 - accuracy: 0.8352 - precision: 0.8749 - recall: 0.7955 - val_loss: 0.5566 - val_accuracy: 0.7908 - val_precision: 0.8385 - val_recall: 0.7417\n",
      "Epoch 41/50\n",
      "70/70 [==============================] - 0s 5ms/step - loss: 0.4142 - accuracy: 0.8361 - precision: 0.8748 - recall: 0.7950 - val_loss: 0.5565 - val_accuracy: 0.7908 - val_precision: 0.8385 - val_recall: 0.7417\n",
      "Epoch 42/50\n",
      "70/70 [==============================] - 0s 5ms/step - loss: 0.4142 - accuracy: 0.8357 - precision: 0.8748 - recall: 0.7950 - val_loss: 0.5566 - val_accuracy: 0.7893 - val_precision: 0.8385 - val_recall: 0.7417\n",
      "Epoch 43/50\n",
      "70/70 [==============================] - 0s 6ms/step - loss: 0.4142 - accuracy: 0.8361 - precision: 0.8748 - recall: 0.7950 - val_loss: 0.5566 - val_accuracy: 0.7908 - val_precision: 0.8385 - val_recall: 0.7417\n",
      "Epoch 44/50\n",
      "70/70 [==============================] - 0s 6ms/step - loss: 0.4141 - accuracy: 0.8352 - precision: 0.8749 - recall: 0.7955 - val_loss: 0.5566 - val_accuracy: 0.7893 - val_precision: 0.8385 - val_recall: 0.7417\n",
      "Epoch 45/50\n",
      "70/70 [==============================] - 0s 6ms/step - loss: 0.4141 - accuracy: 0.8361 - precision: 0.8744 - recall: 0.7955 - val_loss: 0.5566 - val_accuracy: 0.7908 - val_precision: 0.8385 - val_recall: 0.7417\n",
      "Epoch 46/50\n",
      "70/70 [==============================] - 0s 6ms/step - loss: 0.4141 - accuracy: 0.8361 - precision: 0.8748 - recall: 0.7950 - val_loss: 0.5566 - val_accuracy: 0.7908 - val_precision: 0.8385 - val_recall: 0.7417\n",
      "Epoch 47/50\n",
      "70/70 [==============================] - 0s 6ms/step - loss: 0.4140 - accuracy: 0.8361 - precision: 0.8744 - recall: 0.7955 - val_loss: 0.5566 - val_accuracy: 0.7908 - val_precision: 0.8385 - val_recall: 0.7417\n",
      "Epoch 48/50\n",
      "70/70 [==============================] - 0s 5ms/step - loss: 0.4140 - accuracy: 0.8357 - precision: 0.8744 - recall: 0.7955 - val_loss: 0.5566 - val_accuracy: 0.7893 - val_precision: 0.8385 - val_recall: 0.7417\n",
      "Epoch 49/50\n",
      "70/70 [==============================] - 0s 5ms/step - loss: 0.4139 - accuracy: 0.8361 - precision: 0.8748 - recall: 0.7950 - val_loss: 0.5566 - val_accuracy: 0.7908 - val_precision: 0.8385 - val_recall: 0.7417\n",
      "Epoch 50/50\n",
      "70/70 [==============================] - 0s 6ms/step - loss: 0.4139 - accuracy: 0.8357 - precision: 0.8749 - recall: 0.7959 - val_loss: 0.5567 - val_accuracy: 0.7893 - val_precision: 0.8385 - val_recall: 0.7417\n",
      "--------------------\n"
     ]
    },
    {
     "data": {
      "image/png": "[encoded data removed]",
      "text/plain": [
       "<Figure size 1440x1800 with 4 Axes>"
      ]
     },
     "metadata": {
      "needs_background": "light"
     },
     "output_type": "display_data"
    }
   ],
   "source": [
    "network(model1, 50, X_train, y_train, X_test, y_test)"
   ]
  },
  {
   "cell_type": "markdown",
   "id": "1a70769a",
   "metadata": {
    "papermill": {
     "duration": 0.0399,
     "end_time": "2022-11-11T19:12:23.475626",
     "exception": false,
     "start_time": "2022-11-11T19:12:23.435726",
     "status": "completed"
    },
    "tags": []
   },
   "source": [
    "Even after 10 epochs, we see a sharp decrease in testing accuracy and similar increase in the training one. We will test a different network"
   ]
  },
  {
   "cell_type": "markdown",
   "id": "510cb056",
   "metadata": {
    "id": "Cbq-zKhx9P2y",
    "papermill": {
     "duration": 0.040165,
     "end_time": "2022-11-11T19:12:23.555769",
     "exception": false,
     "start_time": "2022-11-11T19:12:23.515604",
     "status": "completed"
    },
    "tags": []
   },
   "source": [
    "### Model 2"
   ]
  },
  {
   "cell_type": "code",
   "execution_count": 33,
   "id": "9c3e1faf",
   "metadata": {
    "ExecuteTime": {
     "end_time": "2022-11-06T03:30:38.420074Z",
     "start_time": "2022-11-06T03:30:38.373204Z"
    },
    "execution": {
     "iopub.execute_input": "2022-11-11T19:12:23.636949Z",
     "iopub.status.busy": "2022-11-11T19:12:23.636416Z",
     "iopub.status.idle": "2022-11-11T19:12:23.738044Z",
     "shell.execute_reply": "2022-11-11T19:12:23.736601Z"
    },
    "id": "kGrF4a4V9PyN",
    "papermill": {
     "duration": 0.146321,
     "end_time": "2022-11-11T19:12:23.741461",
     "exception": false,
     "start_time": "2022-11-11T19:12:23.595140",
     "status": "completed"
    },
    "tags": []
   },
   "outputs": [],
   "source": [
    "model2 = Sequential([\n",
    "                    Input(shape=(11,)),   ## Input layer\n",
    "                    Dense(256, activation='relu'),\n",
    "                    Dropout(0.2),    \n",
    "                    Dense(112, activation='relu'),               \n",
    "                    Dense(56, activation='relu'),\n",
    "                    BatchNormalization(),\n",
    "                    Dense(28, activation='relu'), \n",
    "                    Dense(14, activation='relu'), \n",
    "                    Dropout(0.2),\n",
    "                    Dense(7, activation='relu'), \n",
    "                    Dense(6, activation='softmax')]) ## Output layer "
   ]
  },
  {
   "cell_type": "code",
   "execution_count": 34,
   "id": "8a36e559",
   "metadata": {
    "ExecuteTime": {
     "end_time": "2022-11-06T03:30:54.012147Z",
     "start_time": "2022-11-06T03:30:38.420074Z"
    },
    "execution": {
     "iopub.execute_input": "2022-11-11T19:12:23.821072Z",
     "iopub.status.busy": "2022-11-11T19:12:23.820549Z",
     "iopub.status.idle": "2022-11-11T19:12:48.944254Z",
     "shell.execute_reply": "2022-11-11T19:12:48.942798Z"
    },
    "id": "rqZv-HMz-KSX",
    "outputId": "cc0b8e32-69dd-432c-a7f6-16cf5dfdb970",
    "papermill": {
     "duration": 25.167271,
     "end_time": "2022-11-11T19:12:48.947295",
     "exception": false,
     "start_time": "2022-11-11T19:12:23.780024",
     "status": "completed"
    },
    "tags": []
   },
   "outputs": [
    {
     "name": "stdout",
     "output_type": "stream",
     "text": [
      "Model: \"sequential_1\"\n",
      "_________________________________________________________________\n",
      "Layer (type)                 Output Shape              Param #   \n",
      "=================================================================\n",
      "dense_7 (Dense)              (None, 256)               3072      \n",
      "_________________________________________________________________\n",
      "dropout (Dropout)            (None, 256)               0         \n",
      "_________________________________________________________________\n",
      "dense_8 (Dense)              (None, 112)               28784     \n",
      "_________________________________________________________________\n",
      "dense_9 (Dense)              (None, 56)                6328      \n",
      "_________________________________________________________________\n",
      "batch_normalization (BatchNo (None, 56)                224       \n",
      "_________________________________________________________________\n",
      "dense_10 (Dense)             (None, 28)                1596      \n",
      "_________________________________________________________________\n",
      "dense_11 (Dense)             (None, 14)                406       \n",
      "_________________________________________________________________\n",
      "dropout_1 (Dropout)          (None, 14)                0         \n",
      "_________________________________________________________________\n",
      "dense_12 (Dense)             (None, 7)                 105       \n",
      "_________________________________________________________________\n",
      "dense_13 (Dense)             (None, 6)                 48        \n",
      "=================================================================\n",
      "Total params: 40,563\n",
      "Trainable params: 40,451\n",
      "Non-trainable params: 112\n",
      "_________________________________________________________________\n",
      "None\n",
      "Epoch 1/50\n",
      "70/70 [==============================] - 3s 18ms/step - loss: 1.6822 - accuracy: 0.2239 - precision: 0.7786 - recall: 0.1898 - val_loss: 1.6982 - val_accuracy: 0.4084 - val_precision: 0.0000e+00 - val_recall: 0.0000e+00\n",
      "Epoch 2/50\n",
      "70/70 [==============================] - 0s 6ms/step - loss: 1.5001 - accuracy: 0.3467 - precision: 0.5845 - recall: 0.0984 - val_loss: 1.5146 - val_accuracy: 0.5079 - val_precision: 0.6842 - val_recall: 0.0188\n",
      "Epoch 3/50\n",
      "70/70 [==============================] - 0s 6ms/step - loss: 1.3259 - accuracy: 0.5070 - precision: 0.6596 - recall: 0.1549 - val_loss: 1.2588 - val_accuracy: 0.5988 - val_precision: 0.8105 - val_recall: 0.1111\n",
      "Epoch 4/50\n",
      "70/70 [==============================] - 0s 7ms/step - loss: 1.0886 - accuracy: 0.5901 - precision: 0.7451 - recall: 0.3445 - val_loss: 1.0471 - val_accuracy: 0.6364 - val_precision: 0.8818 - val_recall: 0.2799\n",
      "Epoch 5/50\n",
      "70/70 [==============================] - 0s 6ms/step - loss: 0.9933 - accuracy: 0.6086 - precision: 0.7316 - recall: 0.4528 - val_loss: 0.8716 - val_accuracy: 0.7128 - val_precision: 0.8346 - val_recall: 0.4877\n",
      "Epoch 6/50\n",
      "70/70 [==============================] - 0s 6ms/step - loss: 0.8949 - accuracy: 0.6591 - precision: 0.7561 - recall: 0.5065 - val_loss: 0.7961 - val_accuracy: 0.6926 - val_precision: 0.7930 - val_recall: 0.5859\n",
      "Epoch 7/50\n",
      "70/70 [==============================] - 0s 6ms/step - loss: 0.8435 - accuracy: 0.6686 - precision: 0.7557 - recall: 0.5544 - val_loss: 0.7800 - val_accuracy: 0.7143 - val_precision: 0.7801 - val_recall: 0.5887\n",
      "Epoch 8/50\n",
      "70/70 [==============================] - 0s 6ms/step - loss: 0.7875 - accuracy: 0.6998 - precision: 0.7697 - recall: 0.5765 - val_loss: 0.7374 - val_accuracy: 0.7244 - val_precision: 0.8008 - val_recall: 0.5743\n",
      "Epoch 9/50\n",
      "70/70 [==============================] - 0s 6ms/step - loss: 0.7752 - accuracy: 0.7065 - precision: 0.7889 - recall: 0.5887 - val_loss: 0.7228 - val_accuracy: 0.7302 - val_precision: 0.7605 - val_recall: 0.6277\n",
      "Epoch 10/50\n",
      "70/70 [==============================] - 0s 6ms/step - loss: 0.7474 - accuracy: 0.7151 - precision: 0.7952 - recall: 0.5977 - val_loss: 0.6940 - val_accuracy: 0.7258 - val_precision: 0.7828 - val_recall: 0.6450\n",
      "Epoch 11/50\n",
      "70/70 [==============================] - 0s 6ms/step - loss: 0.7002 - accuracy: 0.7219 - precision: 0.7898 - recall: 0.6140 - val_loss: 0.6699 - val_accuracy: 0.7504 - val_precision: 0.7963 - val_recall: 0.6883\n",
      "Epoch 12/50\n",
      "70/70 [==============================] - 0s 6ms/step - loss: 0.6862 - accuracy: 0.7359 - precision: 0.7936 - recall: 0.6406 - val_loss: 0.6658 - val_accuracy: 0.7431 - val_precision: 0.7831 - val_recall: 0.6825\n",
      "Epoch 13/50\n",
      "70/70 [==============================] - 0s 6ms/step - loss: 0.6882 - accuracy: 0.7386 - precision: 0.7997 - recall: 0.6488 - val_loss: 0.6848 - val_accuracy: 0.7359 - val_precision: 0.7855 - val_recall: 0.6869\n",
      "\n",
      "Epoch 00013: ReduceLROnPlateau reducing learning rate to 0.0003000000142492354.\n",
      "Epoch 14/50\n",
      "70/70 [==============================] - 0s 6ms/step - loss: 0.6123 - accuracy: 0.7571 - precision: 0.8216 - recall: 0.6718 - val_loss: 0.6279 - val_accuracy: 0.7605 - val_precision: 0.8003 - val_recall: 0.7056\n",
      "Epoch 15/50\n",
      "70/70 [==============================] - 0s 7ms/step - loss: 0.6027 - accuracy: 0.7688 - precision: 0.8259 - recall: 0.6916 - val_loss: 0.6161 - val_accuracy: 0.7605 - val_precision: 0.7952 - val_recall: 0.7114\n",
      "Epoch 16/50\n",
      "70/70 [==============================] - 0s 6ms/step - loss: 0.5885 - accuracy: 0.7783 - precision: 0.8385 - recall: 0.7034 - val_loss: 0.6124 - val_accuracy: 0.7677 - val_precision: 0.7997 - val_recall: 0.7201\n",
      "Epoch 17/50\n",
      "70/70 [==============================] - 0s 6ms/step - loss: 0.6005 - accuracy: 0.7679 - precision: 0.8249 - recall: 0.6953 - val_loss: 0.6068 - val_accuracy: 0.7720 - val_precision: 0.8074 - val_recall: 0.7201\n",
      "Epoch 18/50\n",
      "70/70 [==============================] - 0s 6ms/step - loss: 0.5643 - accuracy: 0.7842 - precision: 0.8369 - recall: 0.7088 - val_loss: 0.6160 - val_accuracy: 0.7749 - val_precision: 0.8080 - val_recall: 0.7287\n",
      "Epoch 19/50\n",
      "70/70 [==============================] - 0s 6ms/step - loss: 0.5436 - accuracy: 0.7842 - precision: 0.8346 - recall: 0.7174 - val_loss: 0.5765 - val_accuracy: 0.7792 - val_precision: 0.8136 - val_recall: 0.7431\n",
      "Epoch 20/50\n",
      "70/70 [==============================] - 0s 6ms/step - loss: 0.5330 - accuracy: 0.7919 - precision: 0.8465 - recall: 0.7318 - val_loss: 0.6110 - val_accuracy: 0.7677 - val_precision: 0.7941 - val_recall: 0.7345\n",
      "Epoch 21/50\n",
      "70/70 [==============================] - 0s 6ms/step - loss: 0.5508 - accuracy: 0.7847 - precision: 0.8301 - recall: 0.7278 - val_loss: 0.5912 - val_accuracy: 0.7763 - val_precision: 0.8006 - val_recall: 0.7359\n",
      "\n",
      "Epoch 00021: ReduceLROnPlateau reducing learning rate to 9.000000427477062e-05.\n",
      "Epoch 22/50\n",
      "70/70 [==============================] - 0s 6ms/step - loss: 0.5291 - accuracy: 0.7887 - precision: 0.8319 - recall: 0.7305 - val_loss: 0.5839 - val_accuracy: 0.7850 - val_precision: 0.8038 - val_recall: 0.7388\n",
      "Epoch 23/50\n",
      "70/70 [==============================] - 0s 6ms/step - loss: 0.5210 - accuracy: 0.7901 - precision: 0.8366 - recall: 0.7305 - val_loss: 0.5829 - val_accuracy: 0.7807 - val_precision: 0.8028 - val_recall: 0.7460\n",
      "Epoch 24/50\n",
      "70/70 [==============================] - 0s 6ms/step - loss: 0.5185 - accuracy: 0.7883 - precision: 0.8327 - recall: 0.7237 - val_loss: 0.5767 - val_accuracy: 0.7835 - val_precision: 0.8093 - val_recall: 0.7532\n",
      "\n",
      "Epoch 00024: ReduceLROnPlateau reducing learning rate to 2.700000040931627e-05.\n",
      "Epoch 25/50\n",
      "70/70 [==============================] - 0s 6ms/step - loss: 0.5228 - accuracy: 0.7964 - precision: 0.8406 - recall: 0.7449 - val_loss: 0.5773 - val_accuracy: 0.7835 - val_precision: 0.8078 - val_recall: 0.7518\n",
      "Epoch 26/50\n",
      "70/70 [==============================] - 0s 6ms/step - loss: 0.5123 - accuracy: 0.8014 - precision: 0.8478 - recall: 0.7467 - val_loss: 0.5818 - val_accuracy: 0.7821 - val_precision: 0.8068 - val_recall: 0.7532\n",
      "\n",
      "Epoch 00026: ReduceLROnPlateau reducing learning rate to 8.100000013655517e-06.\n",
      "Epoch 27/50\n",
      "70/70 [==============================] - 0s 6ms/step - loss: 0.4908 - accuracy: 0.8086 - precision: 0.8629 - recall: 0.7476 - val_loss: 0.5822 - val_accuracy: 0.7835 - val_precision: 0.8059 - val_recall: 0.7547\n",
      "Epoch 28/50\n",
      "70/70 [==============================] - 0s 6ms/step - loss: 0.5055 - accuracy: 0.7964 - precision: 0.8398 - recall: 0.7381 - val_loss: 0.5811 - val_accuracy: 0.7835 - val_precision: 0.8065 - val_recall: 0.7576\n",
      "\n",
      "Epoch 00028: ReduceLROnPlateau reducing learning rate to 2.429999949526973e-06.\n",
      "Epoch 29/50\n",
      "70/70 [==============================] - 0s 7ms/step - loss: 0.5307 - accuracy: 0.8000 - precision: 0.8354 - recall: 0.7354 - val_loss: 0.5819 - val_accuracy: 0.7835 - val_precision: 0.8074 - val_recall: 0.7561\n",
      "Epoch 30/50\n",
      "70/70 [==============================] - 0s 6ms/step - loss: 0.4999 - accuracy: 0.8045 - precision: 0.8510 - recall: 0.7503 - val_loss: 0.5818 - val_accuracy: 0.7835 - val_precision: 0.8068 - val_recall: 0.7532\n",
      "\n",
      "Epoch 00030: ReduceLROnPlateau reducing learning rate to 1e-06.\n",
      "Epoch 31/50\n",
      "70/70 [==============================] - 0s 6ms/step - loss: 0.5100 - accuracy: 0.8045 - precision: 0.8495 - recall: 0.7440 - val_loss: 0.5820 - val_accuracy: 0.7835 - val_precision: 0.8093 - val_recall: 0.7532\n",
      "Epoch 32/50\n",
      "70/70 [==============================] - 0s 6ms/step - loss: 0.5014 - accuracy: 0.8027 - precision: 0.8520 - recall: 0.7381 - val_loss: 0.5817 - val_accuracy: 0.7850 - val_precision: 0.8096 - val_recall: 0.7547\n",
      "Epoch 33/50\n",
      "70/70 [==============================] - 0s 6ms/step - loss: 0.5098 - accuracy: 0.7986 - precision: 0.8462 - recall: 0.7427 - val_loss: 0.5817 - val_accuracy: 0.7835 - val_precision: 0.8083 - val_recall: 0.7547\n",
      "Epoch 34/50\n",
      "70/70 [==============================] - 0s 6ms/step - loss: 0.5195 - accuracy: 0.7973 - precision: 0.8445 - recall: 0.7454 - val_loss: 0.5824 - val_accuracy: 0.7835 - val_precision: 0.8093 - val_recall: 0.7532\n",
      "Epoch 35/50\n",
      "70/70 [==============================] - 0s 6ms/step - loss: 0.5149 - accuracy: 0.8126 - precision: 0.8502 - recall: 0.7454 - val_loss: 0.5824 - val_accuracy: 0.7850 - val_precision: 0.8106 - val_recall: 0.7532\n",
      "Epoch 36/50\n",
      "70/70 [==============================] - 0s 6ms/step - loss: 0.4987 - accuracy: 0.7995 - precision: 0.8505 - recall: 0.7395 - val_loss: 0.5813 - val_accuracy: 0.7850 - val_precision: 0.8093 - val_recall: 0.7532\n",
      "Epoch 37/50\n",
      "70/70 [==============================] - 1s 9ms/step - loss: 0.5148 - accuracy: 0.8000 - precision: 0.8465 - recall: 0.7472 - val_loss: 0.5818 - val_accuracy: 0.7850 - val_precision: 0.8093 - val_recall: 0.7532\n",
      "Epoch 38/50\n",
      "70/70 [==============================] - 0s 7ms/step - loss: 0.5143 - accuracy: 0.7950 - precision: 0.8382 - recall: 0.7436 - val_loss: 0.5809 - val_accuracy: 0.7850 - val_precision: 0.8083 - val_recall: 0.7547\n",
      "Epoch 39/50\n",
      "70/70 [==============================] - 0s 6ms/step - loss: 0.5156 - accuracy: 0.8009 - precision: 0.8420 - recall: 0.7436 - val_loss: 0.5807 - val_accuracy: 0.7850 - val_precision: 0.8093 - val_recall: 0.7532\n",
      "Epoch 40/50\n",
      "70/70 [==============================] - 0s 6ms/step - loss: 0.5021 - accuracy: 0.8023 - precision: 0.8493 - recall: 0.7404 - val_loss: 0.5807 - val_accuracy: 0.7850 - val_precision: 0.8096 - val_recall: 0.7547\n",
      "Epoch 41/50\n",
      "70/70 [==============================] - 0s 6ms/step - loss: 0.5200 - accuracy: 0.7901 - precision: 0.8377 - recall: 0.7341 - val_loss: 0.5805 - val_accuracy: 0.7850 - val_precision: 0.8083 - val_recall: 0.7547\n",
      "Epoch 42/50\n",
      "70/70 [==============================] - 0s 6ms/step - loss: 0.5132 - accuracy: 0.7973 - precision: 0.8466 - recall: 0.7400 - val_loss: 0.5800 - val_accuracy: 0.7850 - val_precision: 0.8083 - val_recall: 0.7547\n",
      "Epoch 43/50\n",
      "70/70 [==============================] - 0s 6ms/step - loss: 0.5026 - accuracy: 0.7955 - precision: 0.8429 - recall: 0.7386 - val_loss: 0.5806 - val_accuracy: 0.7850 - val_precision: 0.8083 - val_recall: 0.7547\n",
      "Epoch 44/50\n",
      "70/70 [==============================] - 0s 6ms/step - loss: 0.5119 - accuracy: 0.8041 - precision: 0.8538 - recall: 0.7485 - val_loss: 0.5805 - val_accuracy: 0.7835 - val_precision: 0.8086 - val_recall: 0.7561\n",
      "Epoch 45/50\n",
      "70/70 [==============================] - 0s 6ms/step - loss: 0.4908 - accuracy: 0.8117 - precision: 0.8557 - recall: 0.7521 - val_loss: 0.5808 - val_accuracy: 0.7835 - val_precision: 0.8083 - val_recall: 0.7547\n",
      "Epoch 46/50\n",
      "70/70 [==============================] - 0s 6ms/step - loss: 0.5091 - accuracy: 0.7955 - precision: 0.8430 - recall: 0.7395 - val_loss: 0.5815 - val_accuracy: 0.7835 - val_precision: 0.8078 - val_recall: 0.7518\n",
      "Epoch 47/50\n",
      "70/70 [==============================] - 0s 6ms/step - loss: 0.5177 - accuracy: 0.8036 - precision: 0.8494 - recall: 0.7436 - val_loss: 0.5810 - val_accuracy: 0.7835 - val_precision: 0.8080 - val_recall: 0.7532\n",
      "Epoch 48/50\n",
      "70/70 [==============================] - 0s 6ms/step - loss: 0.5075 - accuracy: 0.8032 - precision: 0.8487 - recall: 0.7418 - val_loss: 0.5807 - val_accuracy: 0.7835 - val_precision: 0.8080 - val_recall: 0.7532\n",
      "Epoch 49/50\n",
      "70/70 [==============================] - 0s 6ms/step - loss: 0.5164 - accuracy: 0.7946 - precision: 0.8475 - recall: 0.7327 - val_loss: 0.5799 - val_accuracy: 0.7835 - val_precision: 0.8083 - val_recall: 0.7547\n",
      "Epoch 50/50\n",
      "70/70 [==============================] - 0s 6ms/step - loss: 0.5167 - accuracy: 0.7959 - precision: 0.8432 - recall: 0.7359 - val_loss: 0.5811 - val_accuracy: 0.7850 - val_precision: 0.8106 - val_recall: 0.7532\n",
      "--------------------\n"
     ]
    },
    {
     "data": {
      "image/png": "[encoded data removed]",
      "text/plain": [
       "<Figure size 1440x1800 with 4 Axes>"
      ]
     },
     "metadata": {
      "needs_background": "light"
     },
     "output_type": "display_data"
    }
   ],
   "source": [
    "network(model2, 50, X_train, y_train, X_test, y_test)"
   ]
  },
  {
   "cell_type": "markdown",
   "id": "1186f942",
   "metadata": {
    "papermill": {
     "duration": 0.069436,
     "end_time": "2022-11-11T19:12:49.086850",
     "exception": false,
     "start_time": "2022-11-11T19:12:49.017414",
     "status": "completed"
    },
    "tags": []
   },
   "source": [
    "I am satisfied with the second model. It shows no sign of overfitting and does and excellent job of prediction with 80 percent accuracy. The accuracy, recall, precision and loss, all are well balanced. "
   ]
  },
  {
   "cell_type": "code",
   "execution_count": 35,
   "id": "2f742d54",
   "metadata": {
    "execution": {
     "iopub.execute_input": "2022-11-11T19:12:49.225218Z",
     "iopub.status.busy": "2022-11-11T19:12:49.224780Z",
     "iopub.status.idle": "2022-11-11T19:12:49.509230Z",
     "shell.execute_reply": "2022-11-11T19:12:49.507489Z"
    },
    "papermill": {
     "duration": 0.357281,
     "end_time": "2022-11-11T19:12:49.513117",
     "exception": false,
     "start_time": "2022-11-11T19:12:49.155836",
     "status": "completed"
    },
    "tags": []
   },
   "outputs": [],
   "source": [
    "y_pred = model2.predict(X_test)\n",
    "y_pred = np.argmax(y_pred, axis=1)\n",
    "y_test = np.argmax(y_test, axis=1)"
   ]
  },
  {
   "cell_type": "code",
   "execution_count": 36,
   "id": "e23d6548",
   "metadata": {
    "execution": {
     "iopub.execute_input": "2022-11-11T19:12:49.666289Z",
     "iopub.status.busy": "2022-11-11T19:12:49.665467Z",
     "iopub.status.idle": "2022-11-11T19:12:49.671305Z",
     "shell.execute_reply": "2022-11-11T19:12:49.670404Z"
    },
    "papermill": {
     "duration": 0.07909,
     "end_time": "2022-11-11T19:12:49.673641",
     "exception": false,
     "start_time": "2022-11-11T19:12:49.594551",
     "status": "completed"
    },
    "tags": []
   },
   "outputs": [],
   "source": [
    "from sklearn.metrics import precision_score, confusion_matrix, accuracy_score, classification_report, recall_score"
   ]
  },
  {
   "cell_type": "code",
   "execution_count": 37,
   "id": "11f30ec2",
   "metadata": {
    "execution": {
     "iopub.execute_input": "2022-11-11T19:12:49.808327Z",
     "iopub.status.busy": "2022-11-11T19:12:49.806968Z",
     "iopub.status.idle": "2022-11-11T19:12:49.820122Z",
     "shell.execute_reply": "2022-11-11T19:12:49.818227Z"
    },
    "papermill": {
     "duration": 0.08392,
     "end_time": "2022-11-11T19:12:49.822995",
     "exception": false,
     "start_time": "2022-11-11T19:12:49.739075",
     "status": "completed"
    },
    "tags": []
   },
   "outputs": [
    {
     "name": "stdout",
     "output_type": "stream",
     "text": [
      "Average Precision Score is: 0.7746250802735631\n",
      "Average Recall Score is: 0.784992784992785\n",
      "Confusion Matrix is:\n",
      " [[122   0   0   0   0   0]\n",
      " [  1  90   4   3   0   0]\n",
      " [  4  14  79  26   5   0]\n",
      " [  2  10  28  53  18   4]\n",
      " [  1   0   2  20  91   6]\n",
      " [  0   0   0   0   1 109]]\n"
     ]
    }
   ],
   "source": [
    "print('Average Precision Score is:', precision_score(y_test,y_pred, average='weighted'))\n",
    "print('Average Recall Score is:', recall_score(y_test, y_pred, average='weighted'))\n",
    "print('Confusion Matrix is:\\n', confusion_matrix(y_test, y_pred))"
   ]
  },
  {
   "cell_type": "code",
   "execution_count": 38,
   "id": "0f18a373",
   "metadata": {
    "execution": {
     "iopub.execute_input": "2022-11-11T19:12:49.956368Z",
     "iopub.status.busy": "2022-11-11T19:12:49.955920Z",
     "iopub.status.idle": "2022-11-11T19:12:49.970154Z",
     "shell.execute_reply": "2022-11-11T19:12:49.968296Z"
    },
    "papermill": {
     "duration": 0.083614,
     "end_time": "2022-11-11T19:12:49.972521",
     "exception": false,
     "start_time": "2022-11-11T19:12:49.888907",
     "status": "completed"
    },
    "tags": []
   },
   "outputs": [
    {
     "name": "stdout",
     "output_type": "stream",
     "text": [
      "Test Classification Report               precision    recall  f1-score   support\n",
      "\n",
      "           0       0.94      1.00      0.97       122\n",
      "           1       0.79      0.92      0.85        98\n",
      "           2       0.70      0.62      0.66       128\n",
      "           3       0.52      0.46      0.49       115\n",
      "           4       0.79      0.76      0.77       120\n",
      "           5       0.92      0.99      0.95       110\n",
      "\n",
      "    accuracy                           0.78       693\n",
      "   macro avg       0.78      0.79      0.78       693\n",
      "weighted avg       0.77      0.78      0.78       693\n",
      "\n"
     ]
    }
   ],
   "source": [
    "print(\"Test Classification Report\",classification_report(y_test,y_pred))"
   ]
  },
  {
   "cell_type": "markdown",
   "id": "4a0ab571",
   "metadata": {
    "ExecuteTime": {
     "end_time": "2022-11-06T03:32:35.387607Z",
     "start_time": "2022-11-06T03:32:35.231360Z"
    },
    "id": "KMSpRvKVU3m9",
    "papermill": {
     "duration": 0.066307,
     "end_time": "2022-11-11T19:12:50.105083",
     "exception": false,
     "start_time": "2022-11-11T19:12:50.038776",
     "status": "completed"
    },
    "tags": []
   },
   "source": [
    "- We built a neural network from scratch using Keras TensorFlow. \n",
    "- A graph plotting changes in training and testing accuracy was plotted alongside.\n",
    "- The dataset was very small with very less number of features. So even though we upsampled the data, we could not achieve an averag accuracy of greater than 80 percent.\n",
    "- But we were happy to achieve equally good recall and precision scores."
   ]
  }
 ],
 "metadata": {
  "kernelspec": {
   "display_name": "Python 3",
   "language": "python",
   "name": "python3"
  },
  "language_info": {
   "codemirror_mode": {
    "name": "ipython",
    "version": 3
   },
   "file_extension": ".py",
   "mimetype": "text/x-python",
   "name": "python",
   "nbconvert_exporter": "python",
   "pygments_lexer": "ipython3",
   "version": "3.7.12"
  },
  "papermill": {
   "default_parameters": {},
   "duration": 71.146019,
   "end_time": "2022-11-11T19:12:53.215079",
   "environment_variables": {},
   "exception": null,
   "input_path": "__notebook__.ipynb",
   "output_path": "__notebook__.ipynb",
   "parameters": {},
   "start_time": "2022-11-11T19:11:42.069060",
   "version": "2.3.4"
  }
 },
 "nbformat": 4,
 "nbformat_minor": 5
}
